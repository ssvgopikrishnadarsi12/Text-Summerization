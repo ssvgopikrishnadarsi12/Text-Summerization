{
  "nbformat": 4,
  "nbformat_minor": 0,
  "metadata": {
    "colab": {
      "provenance": []
    },
    "kernelspec": {
      "name": "python3",
      "display_name": "Python 3"
    },
    "language_info": {
      "name": "python"
    },
    "widgets": {
      "application/vnd.jupyter.widget-state+json": {
        "a1b3258a05964da9b079978854484ee9": {
          "model_module": "@jupyter-widgets/controls",
          "model_name": "HBoxModel",
          "model_module_version": "1.5.0",
          "state": {
            "_dom_classes": [],
            "_model_module": "@jupyter-widgets/controls",
            "_model_module_version": "1.5.0",
            "_model_name": "HBoxModel",
            "_view_count": null,
            "_view_module": "@jupyter-widgets/controls",
            "_view_module_version": "1.5.0",
            "_view_name": "HBoxView",
            "box_style": "",
            "children": [
              "IPY_MODEL_441ef1a04f524f08bb4406b078e9875a",
              "IPY_MODEL_bdb680139b7247d6a2b124b1ed640686",
              "IPY_MODEL_7b8a0d76e6f2448fbe3fae61047344eb"
            ],
            "layout": "IPY_MODEL_82017be7f99d49cca907919b2144fa1a"
          }
        },
        "441ef1a04f524f08bb4406b078e9875a": {
          "model_module": "@jupyter-widgets/controls",
          "model_name": "HTMLModel",
          "model_module_version": "1.5.0",
          "state": {
            "_dom_classes": [],
            "_model_module": "@jupyter-widgets/controls",
            "_model_module_version": "1.5.0",
            "_model_name": "HTMLModel",
            "_view_count": null,
            "_view_module": "@jupyter-widgets/controls",
            "_view_module_version": "1.5.0",
            "_view_name": "HTMLView",
            "description": "",
            "description_tooltip": null,
            "layout": "IPY_MODEL_e4968474111c40b8a3d6658b721072e4",
            "placeholder": "​",
            "style": "IPY_MODEL_3adbcaa5571f4971af0b165319feb9b9",
            "value": "Downloading: 100%"
          }
        },
        "bdb680139b7247d6a2b124b1ed640686": {
          "model_module": "@jupyter-widgets/controls",
          "model_name": "FloatProgressModel",
          "model_module_version": "1.5.0",
          "state": {
            "_dom_classes": [],
            "_model_module": "@jupyter-widgets/controls",
            "_model_module_version": "1.5.0",
            "_model_name": "FloatProgressModel",
            "_view_count": null,
            "_view_module": "@jupyter-widgets/controls",
            "_view_module_version": "1.5.0",
            "_view_name": "ProgressView",
            "bar_style": "success",
            "description": "",
            "description_tooltip": null,
            "layout": "IPY_MODEL_244021710116406bb8dd5e8676e61c85",
            "max": 1222317369,
            "min": 0,
            "orientation": "horizontal",
            "style": "IPY_MODEL_1d435a27983448808a4a2f189fa7943a",
            "value": 1222317369
          }
        },
        "7b8a0d76e6f2448fbe3fae61047344eb": {
          "model_module": "@jupyter-widgets/controls",
          "model_name": "HTMLModel",
          "model_module_version": "1.5.0",
          "state": {
            "_dom_classes": [],
            "_model_module": "@jupyter-widgets/controls",
            "_model_module_version": "1.5.0",
            "_model_name": "HTMLModel",
            "_view_count": null,
            "_view_module": "@jupyter-widgets/controls",
            "_view_module_version": "1.5.0",
            "_view_name": "HTMLView",
            "description": "",
            "description_tooltip": null,
            "layout": "IPY_MODEL_29db6034a6624f14b4df2cbde291da35",
            "placeholder": "​",
            "style": "IPY_MODEL_265aa011b436464db12d7544c84dd835",
            "value": " 1.22G/1.22G [00:38&lt;00:00, 37.8MB/s]"
          }
        },
        "82017be7f99d49cca907919b2144fa1a": {
          "model_module": "@jupyter-widgets/base",
          "model_name": "LayoutModel",
          "model_module_version": "1.2.0",
          "state": {
            "_model_module": "@jupyter-widgets/base",
            "_model_module_version": "1.2.0",
            "_model_name": "LayoutModel",
            "_view_count": null,
            "_view_module": "@jupyter-widgets/base",
            "_view_module_version": "1.2.0",
            "_view_name": "LayoutView",
            "align_content": null,
            "align_items": null,
            "align_self": null,
            "border": null,
            "bottom": null,
            "display": null,
            "flex": null,
            "flex_flow": null,
            "grid_area": null,
            "grid_auto_columns": null,
            "grid_auto_flow": null,
            "grid_auto_rows": null,
            "grid_column": null,
            "grid_gap": null,
            "grid_row": null,
            "grid_template_areas": null,
            "grid_template_columns": null,
            "grid_template_rows": null,
            "height": null,
            "justify_content": null,
            "justify_items": null,
            "left": null,
            "margin": null,
            "max_height": null,
            "max_width": null,
            "min_height": null,
            "min_width": null,
            "object_fit": null,
            "object_position": null,
            "order": null,
            "overflow": null,
            "overflow_x": null,
            "overflow_y": null,
            "padding": null,
            "right": null,
            "top": null,
            "visibility": null,
            "width": null
          }
        },
        "e4968474111c40b8a3d6658b721072e4": {
          "model_module": "@jupyter-widgets/base",
          "model_name": "LayoutModel",
          "model_module_version": "1.2.0",
          "state": {
            "_model_module": "@jupyter-widgets/base",
            "_model_module_version": "1.2.0",
            "_model_name": "LayoutModel",
            "_view_count": null,
            "_view_module": "@jupyter-widgets/base",
            "_view_module_version": "1.2.0",
            "_view_name": "LayoutView",
            "align_content": null,
            "align_items": null,
            "align_self": null,
            "border": null,
            "bottom": null,
            "display": null,
            "flex": null,
            "flex_flow": null,
            "grid_area": null,
            "grid_auto_columns": null,
            "grid_auto_flow": null,
            "grid_auto_rows": null,
            "grid_column": null,
            "grid_gap": null,
            "grid_row": null,
            "grid_template_areas": null,
            "grid_template_columns": null,
            "grid_template_rows": null,
            "height": null,
            "justify_content": null,
            "justify_items": null,
            "left": null,
            "margin": null,
            "max_height": null,
            "max_width": null,
            "min_height": null,
            "min_width": null,
            "object_fit": null,
            "object_position": null,
            "order": null,
            "overflow": null,
            "overflow_x": null,
            "overflow_y": null,
            "padding": null,
            "right": null,
            "top": null,
            "visibility": null,
            "width": null
          }
        },
        "3adbcaa5571f4971af0b165319feb9b9": {
          "model_module": "@jupyter-widgets/controls",
          "model_name": "DescriptionStyleModel",
          "model_module_version": "1.5.0",
          "state": {
            "_model_module": "@jupyter-widgets/controls",
            "_model_module_version": "1.5.0",
            "_model_name": "DescriptionStyleModel",
            "_view_count": null,
            "_view_module": "@jupyter-widgets/base",
            "_view_module_version": "1.2.0",
            "_view_name": "StyleView",
            "description_width": ""
          }
        },
        "244021710116406bb8dd5e8676e61c85": {
          "model_module": "@jupyter-widgets/base",
          "model_name": "LayoutModel",
          "model_module_version": "1.2.0",
          "state": {
            "_model_module": "@jupyter-widgets/base",
            "_model_module_version": "1.2.0",
            "_model_name": "LayoutModel",
            "_view_count": null,
            "_view_module": "@jupyter-widgets/base",
            "_view_module_version": "1.2.0",
            "_view_name": "LayoutView",
            "align_content": null,
            "align_items": null,
            "align_self": null,
            "border": null,
            "bottom": null,
            "display": null,
            "flex": null,
            "flex_flow": null,
            "grid_area": null,
            "grid_auto_columns": null,
            "grid_auto_flow": null,
            "grid_auto_rows": null,
            "grid_column": null,
            "grid_gap": null,
            "grid_row": null,
            "grid_template_areas": null,
            "grid_template_columns": null,
            "grid_template_rows": null,
            "height": null,
            "justify_content": null,
            "justify_items": null,
            "left": null,
            "margin": null,
            "max_height": null,
            "max_width": null,
            "min_height": null,
            "min_width": null,
            "object_fit": null,
            "object_position": null,
            "order": null,
            "overflow": null,
            "overflow_x": null,
            "overflow_y": null,
            "padding": null,
            "right": null,
            "top": null,
            "visibility": null,
            "width": null
          }
        },
        "1d435a27983448808a4a2f189fa7943a": {
          "model_module": "@jupyter-widgets/controls",
          "model_name": "ProgressStyleModel",
          "model_module_version": "1.5.0",
          "state": {
            "_model_module": "@jupyter-widgets/controls",
            "_model_module_version": "1.5.0",
            "_model_name": "ProgressStyleModel",
            "_view_count": null,
            "_view_module": "@jupyter-widgets/base",
            "_view_module_version": "1.2.0",
            "_view_name": "StyleView",
            "bar_color": null,
            "description_width": ""
          }
        },
        "29db6034a6624f14b4df2cbde291da35": {
          "model_module": "@jupyter-widgets/base",
          "model_name": "LayoutModel",
          "model_module_version": "1.2.0",
          "state": {
            "_model_module": "@jupyter-widgets/base",
            "_model_module_version": "1.2.0",
            "_model_name": "LayoutModel",
            "_view_count": null,
            "_view_module": "@jupyter-widgets/base",
            "_view_module_version": "1.2.0",
            "_view_name": "LayoutView",
            "align_content": null,
            "align_items": null,
            "align_self": null,
            "border": null,
            "bottom": null,
            "display": null,
            "flex": null,
            "flex_flow": null,
            "grid_area": null,
            "grid_auto_columns": null,
            "grid_auto_flow": null,
            "grid_auto_rows": null,
            "grid_column": null,
            "grid_gap": null,
            "grid_row": null,
            "grid_template_areas": null,
            "grid_template_columns": null,
            "grid_template_rows": null,
            "height": null,
            "justify_content": null,
            "justify_items": null,
            "left": null,
            "margin": null,
            "max_height": null,
            "max_width": null,
            "min_height": null,
            "min_width": null,
            "object_fit": null,
            "object_position": null,
            "order": null,
            "overflow": null,
            "overflow_x": null,
            "overflow_y": null,
            "padding": null,
            "right": null,
            "top": null,
            "visibility": null,
            "width": null
          }
        },
        "265aa011b436464db12d7544c84dd835": {
          "model_module": "@jupyter-widgets/controls",
          "model_name": "DescriptionStyleModel",
          "model_module_version": "1.5.0",
          "state": {
            "_model_module": "@jupyter-widgets/controls",
            "_model_module_version": "1.5.0",
            "_model_name": "DescriptionStyleModel",
            "_view_count": null,
            "_view_module": "@jupyter-widgets/base",
            "_view_module_version": "1.2.0",
            "_view_name": "StyleView",
            "description_width": ""
          }
        },
        "b66ca5293eb445ef8f4f7e6d9e40539d": {
          "model_module": "@jupyter-widgets/controls",
          "model_name": "HBoxModel",
          "model_module_version": "1.5.0",
          "state": {
            "_dom_classes": [],
            "_model_module": "@jupyter-widgets/controls",
            "_model_module_version": "1.5.0",
            "_model_name": "HBoxModel",
            "_view_count": null,
            "_view_module": "@jupyter-widgets/controls",
            "_view_module_version": "1.5.0",
            "_view_name": "HBoxView",
            "box_style": "",
            "children": [
              "IPY_MODEL_041f73739a8d484fb21e8ba08c73761b",
              "IPY_MODEL_2d1cacbd9d9245129e32e706fc6a99e1",
              "IPY_MODEL_0a9eb6fb819741a6abbf583ccc97b3d3"
            ],
            "layout": "IPY_MODEL_0e471dcb97fb41d3a545bd930b57dcc1"
          }
        },
        "041f73739a8d484fb21e8ba08c73761b": {
          "model_module": "@jupyter-widgets/controls",
          "model_name": "HTMLModel",
          "model_module_version": "1.5.0",
          "state": {
            "_dom_classes": [],
            "_model_module": "@jupyter-widgets/controls",
            "_model_module_version": "1.5.0",
            "_model_name": "HTMLModel",
            "_view_count": null,
            "_view_module": "@jupyter-widgets/controls",
            "_view_module_version": "1.5.0",
            "_view_name": "HTMLView",
            "description": "",
            "description_tooltip": null,
            "layout": "IPY_MODEL_ccbdf72f8f3c4418bd120db7fbb2e3e9",
            "placeholder": "​",
            "style": "IPY_MODEL_27c504867804409493a218d52e9ea5b6",
            "value": "Downloading: 100%"
          }
        },
        "2d1cacbd9d9245129e32e706fc6a99e1": {
          "model_module": "@jupyter-widgets/controls",
          "model_name": "FloatProgressModel",
          "model_module_version": "1.5.0",
          "state": {
            "_dom_classes": [],
            "_model_module": "@jupyter-widgets/controls",
            "_model_module_version": "1.5.0",
            "_model_name": "FloatProgressModel",
            "_view_count": null,
            "_view_module": "@jupyter-widgets/controls",
            "_view_module_version": "1.5.0",
            "_view_name": "ProgressView",
            "bar_style": "success",
            "description": "",
            "description_tooltip": null,
            "layout": "IPY_MODEL_790e6bebd0ba4d06b2ba73b3ae755487",
            "max": 26,
            "min": 0,
            "orientation": "horizontal",
            "style": "IPY_MODEL_c9c4406b79af49daa87d31d027ffb149",
            "value": 26
          }
        },
        "0a9eb6fb819741a6abbf583ccc97b3d3": {
          "model_module": "@jupyter-widgets/controls",
          "model_name": "HTMLModel",
          "model_module_version": "1.5.0",
          "state": {
            "_dom_classes": [],
            "_model_module": "@jupyter-widgets/controls",
            "_model_module_version": "1.5.0",
            "_model_name": "HTMLModel",
            "_view_count": null,
            "_view_module": "@jupyter-widgets/controls",
            "_view_module_version": "1.5.0",
            "_view_name": "HTMLView",
            "description": "",
            "description_tooltip": null,
            "layout": "IPY_MODEL_284c7bbfcc8f4f248f367ccad7760ff0",
            "placeholder": "​",
            "style": "IPY_MODEL_13f4d86c4a8b453ca1aa344c60b606ae",
            "value": " 26.0/26.0 [00:00&lt;00:00, 767B/s]"
          }
        },
        "0e471dcb97fb41d3a545bd930b57dcc1": {
          "model_module": "@jupyter-widgets/base",
          "model_name": "LayoutModel",
          "model_module_version": "1.2.0",
          "state": {
            "_model_module": "@jupyter-widgets/base",
            "_model_module_version": "1.2.0",
            "_model_name": "LayoutModel",
            "_view_count": null,
            "_view_module": "@jupyter-widgets/base",
            "_view_module_version": "1.2.0",
            "_view_name": "LayoutView",
            "align_content": null,
            "align_items": null,
            "align_self": null,
            "border": null,
            "bottom": null,
            "display": null,
            "flex": null,
            "flex_flow": null,
            "grid_area": null,
            "grid_auto_columns": null,
            "grid_auto_flow": null,
            "grid_auto_rows": null,
            "grid_column": null,
            "grid_gap": null,
            "grid_row": null,
            "grid_template_areas": null,
            "grid_template_columns": null,
            "grid_template_rows": null,
            "height": null,
            "justify_content": null,
            "justify_items": null,
            "left": null,
            "margin": null,
            "max_height": null,
            "max_width": null,
            "min_height": null,
            "min_width": null,
            "object_fit": null,
            "object_position": null,
            "order": null,
            "overflow": null,
            "overflow_x": null,
            "overflow_y": null,
            "padding": null,
            "right": null,
            "top": null,
            "visibility": null,
            "width": null
          }
        },
        "ccbdf72f8f3c4418bd120db7fbb2e3e9": {
          "model_module": "@jupyter-widgets/base",
          "model_name": "LayoutModel",
          "model_module_version": "1.2.0",
          "state": {
            "_model_module": "@jupyter-widgets/base",
            "_model_module_version": "1.2.0",
            "_model_name": "LayoutModel",
            "_view_count": null,
            "_view_module": "@jupyter-widgets/base",
            "_view_module_version": "1.2.0",
            "_view_name": "LayoutView",
            "align_content": null,
            "align_items": null,
            "align_self": null,
            "border": null,
            "bottom": null,
            "display": null,
            "flex": null,
            "flex_flow": null,
            "grid_area": null,
            "grid_auto_columns": null,
            "grid_auto_flow": null,
            "grid_auto_rows": null,
            "grid_column": null,
            "grid_gap": null,
            "grid_row": null,
            "grid_template_areas": null,
            "grid_template_columns": null,
            "grid_template_rows": null,
            "height": null,
            "justify_content": null,
            "justify_items": null,
            "left": null,
            "margin": null,
            "max_height": null,
            "max_width": null,
            "min_height": null,
            "min_width": null,
            "object_fit": null,
            "object_position": null,
            "order": null,
            "overflow": null,
            "overflow_x": null,
            "overflow_y": null,
            "padding": null,
            "right": null,
            "top": null,
            "visibility": null,
            "width": null
          }
        },
        "27c504867804409493a218d52e9ea5b6": {
          "model_module": "@jupyter-widgets/controls",
          "model_name": "DescriptionStyleModel",
          "model_module_version": "1.5.0",
          "state": {
            "_model_module": "@jupyter-widgets/controls",
            "_model_module_version": "1.5.0",
            "_model_name": "DescriptionStyleModel",
            "_view_count": null,
            "_view_module": "@jupyter-widgets/base",
            "_view_module_version": "1.2.0",
            "_view_name": "StyleView",
            "description_width": ""
          }
        },
        "790e6bebd0ba4d06b2ba73b3ae755487": {
          "model_module": "@jupyter-widgets/base",
          "model_name": "LayoutModel",
          "model_module_version": "1.2.0",
          "state": {
            "_model_module": "@jupyter-widgets/base",
            "_model_module_version": "1.2.0",
            "_model_name": "LayoutModel",
            "_view_count": null,
            "_view_module": "@jupyter-widgets/base",
            "_view_module_version": "1.2.0",
            "_view_name": "LayoutView",
            "align_content": null,
            "align_items": null,
            "align_self": null,
            "border": null,
            "bottom": null,
            "display": null,
            "flex": null,
            "flex_flow": null,
            "grid_area": null,
            "grid_auto_columns": null,
            "grid_auto_flow": null,
            "grid_auto_rows": null,
            "grid_column": null,
            "grid_gap": null,
            "grid_row": null,
            "grid_template_areas": null,
            "grid_template_columns": null,
            "grid_template_rows": null,
            "height": null,
            "justify_content": null,
            "justify_items": null,
            "left": null,
            "margin": null,
            "max_height": null,
            "max_width": null,
            "min_height": null,
            "min_width": null,
            "object_fit": null,
            "object_position": null,
            "order": null,
            "overflow": null,
            "overflow_x": null,
            "overflow_y": null,
            "padding": null,
            "right": null,
            "top": null,
            "visibility": null,
            "width": null
          }
        },
        "c9c4406b79af49daa87d31d027ffb149": {
          "model_module": "@jupyter-widgets/controls",
          "model_name": "ProgressStyleModel",
          "model_module_version": "1.5.0",
          "state": {
            "_model_module": "@jupyter-widgets/controls",
            "_model_module_version": "1.5.0",
            "_model_name": "ProgressStyleModel",
            "_view_count": null,
            "_view_module": "@jupyter-widgets/base",
            "_view_module_version": "1.2.0",
            "_view_name": "StyleView",
            "bar_color": null,
            "description_width": ""
          }
        },
        "284c7bbfcc8f4f248f367ccad7760ff0": {
          "model_module": "@jupyter-widgets/base",
          "model_name": "LayoutModel",
          "model_module_version": "1.2.0",
          "state": {
            "_model_module": "@jupyter-widgets/base",
            "_model_module_version": "1.2.0",
            "_model_name": "LayoutModel",
            "_view_count": null,
            "_view_module": "@jupyter-widgets/base",
            "_view_module_version": "1.2.0",
            "_view_name": "LayoutView",
            "align_content": null,
            "align_items": null,
            "align_self": null,
            "border": null,
            "bottom": null,
            "display": null,
            "flex": null,
            "flex_flow": null,
            "grid_area": null,
            "grid_auto_columns": null,
            "grid_auto_flow": null,
            "grid_auto_rows": null,
            "grid_column": null,
            "grid_gap": null,
            "grid_row": null,
            "grid_template_areas": null,
            "grid_template_columns": null,
            "grid_template_rows": null,
            "height": null,
            "justify_content": null,
            "justify_items": null,
            "left": null,
            "margin": null,
            "max_height": null,
            "max_width": null,
            "min_height": null,
            "min_width": null,
            "object_fit": null,
            "object_position": null,
            "order": null,
            "overflow": null,
            "overflow_x": null,
            "overflow_y": null,
            "padding": null,
            "right": null,
            "top": null,
            "visibility": null,
            "width": null
          }
        },
        "13f4d86c4a8b453ca1aa344c60b606ae": {
          "model_module": "@jupyter-widgets/controls",
          "model_name": "DescriptionStyleModel",
          "model_module_version": "1.5.0",
          "state": {
            "_model_module": "@jupyter-widgets/controls",
            "_model_module_version": "1.5.0",
            "_model_name": "DescriptionStyleModel",
            "_view_count": null,
            "_view_module": "@jupyter-widgets/base",
            "_view_module_version": "1.2.0",
            "_view_name": "StyleView",
            "description_width": ""
          }
        },
        "b1c0b392c52b451e983bda46b56b1d98": {
          "model_module": "@jupyter-widgets/controls",
          "model_name": "HBoxModel",
          "model_module_version": "1.5.0",
          "state": {
            "_dom_classes": [],
            "_model_module": "@jupyter-widgets/controls",
            "_model_module_version": "1.5.0",
            "_model_name": "HBoxModel",
            "_view_count": null,
            "_view_module": "@jupyter-widgets/controls",
            "_view_module_version": "1.5.0",
            "_view_name": "HBoxView",
            "box_style": "",
            "children": [
              "IPY_MODEL_5129a99c8eb64052b8f3b00279d503eb",
              "IPY_MODEL_4aa1dc1dde6940879395b442b6422066",
              "IPY_MODEL_92bc516438964e27ab98efe95b4a0302"
            ],
            "layout": "IPY_MODEL_29d7bf6bc3b84c1f871201924c834d0a"
          }
        },
        "5129a99c8eb64052b8f3b00279d503eb": {
          "model_module": "@jupyter-widgets/controls",
          "model_name": "HTMLModel",
          "model_module_version": "1.5.0",
          "state": {
            "_dom_classes": [],
            "_model_module": "@jupyter-widgets/controls",
            "_model_module_version": "1.5.0",
            "_model_name": "HTMLModel",
            "_view_count": null,
            "_view_module": "@jupyter-widgets/controls",
            "_view_module_version": "1.5.0",
            "_view_name": "HTMLView",
            "description": "",
            "description_tooltip": null,
            "layout": "IPY_MODEL_17221c607c5a4e6a8d3f9e50c9ee955b",
            "placeholder": "​",
            "style": "IPY_MODEL_efa85b5401d34a94bd118d82cb4ac350",
            "value": "Downloading: 100%"
          }
        },
        "4aa1dc1dde6940879395b442b6422066": {
          "model_module": "@jupyter-widgets/controls",
          "model_name": "FloatProgressModel",
          "model_module_version": "1.5.0",
          "state": {
            "_dom_classes": [],
            "_model_module": "@jupyter-widgets/controls",
            "_model_module_version": "1.5.0",
            "_model_name": "FloatProgressModel",
            "_view_count": null,
            "_view_module": "@jupyter-widgets/controls",
            "_view_module_version": "1.5.0",
            "_view_name": "ProgressView",
            "bar_style": "success",
            "description": "",
            "description_tooltip": null,
            "layout": "IPY_MODEL_6bfc2c1d30c54296b393e4bbb3a46e2c",
            "max": 898822,
            "min": 0,
            "orientation": "horizontal",
            "style": "IPY_MODEL_ca17bab7b1934ea7a73871f9e815368e",
            "value": 898822
          }
        },
        "92bc516438964e27ab98efe95b4a0302": {
          "model_module": "@jupyter-widgets/controls",
          "model_name": "HTMLModel",
          "model_module_version": "1.5.0",
          "state": {
            "_dom_classes": [],
            "_model_module": "@jupyter-widgets/controls",
            "_model_module_version": "1.5.0",
            "_model_name": "HTMLModel",
            "_view_count": null,
            "_view_module": "@jupyter-widgets/controls",
            "_view_module_version": "1.5.0",
            "_view_name": "HTMLView",
            "description": "",
            "description_tooltip": null,
            "layout": "IPY_MODEL_14614d5d482f4951a36cac6673f48479",
            "placeholder": "​",
            "style": "IPY_MODEL_2b97f1d3a0e343febffa6d2250ac683e",
            "value": " 899k/899k [00:00&lt;00:00, 15.9MB/s]"
          }
        },
        "29d7bf6bc3b84c1f871201924c834d0a": {
          "model_module": "@jupyter-widgets/base",
          "model_name": "LayoutModel",
          "model_module_version": "1.2.0",
          "state": {
            "_model_module": "@jupyter-widgets/base",
            "_model_module_version": "1.2.0",
            "_model_name": "LayoutModel",
            "_view_count": null,
            "_view_module": "@jupyter-widgets/base",
            "_view_module_version": "1.2.0",
            "_view_name": "LayoutView",
            "align_content": null,
            "align_items": null,
            "align_self": null,
            "border": null,
            "bottom": null,
            "display": null,
            "flex": null,
            "flex_flow": null,
            "grid_area": null,
            "grid_auto_columns": null,
            "grid_auto_flow": null,
            "grid_auto_rows": null,
            "grid_column": null,
            "grid_gap": null,
            "grid_row": null,
            "grid_template_areas": null,
            "grid_template_columns": null,
            "grid_template_rows": null,
            "height": null,
            "justify_content": null,
            "justify_items": null,
            "left": null,
            "margin": null,
            "max_height": null,
            "max_width": null,
            "min_height": null,
            "min_width": null,
            "object_fit": null,
            "object_position": null,
            "order": null,
            "overflow": null,
            "overflow_x": null,
            "overflow_y": null,
            "padding": null,
            "right": null,
            "top": null,
            "visibility": null,
            "width": null
          }
        },
        "17221c607c5a4e6a8d3f9e50c9ee955b": {
          "model_module": "@jupyter-widgets/base",
          "model_name": "LayoutModel",
          "model_module_version": "1.2.0",
          "state": {
            "_model_module": "@jupyter-widgets/base",
            "_model_module_version": "1.2.0",
            "_model_name": "LayoutModel",
            "_view_count": null,
            "_view_module": "@jupyter-widgets/base",
            "_view_module_version": "1.2.0",
            "_view_name": "LayoutView",
            "align_content": null,
            "align_items": null,
            "align_self": null,
            "border": null,
            "bottom": null,
            "display": null,
            "flex": null,
            "flex_flow": null,
            "grid_area": null,
            "grid_auto_columns": null,
            "grid_auto_flow": null,
            "grid_auto_rows": null,
            "grid_column": null,
            "grid_gap": null,
            "grid_row": null,
            "grid_template_areas": null,
            "grid_template_columns": null,
            "grid_template_rows": null,
            "height": null,
            "justify_content": null,
            "justify_items": null,
            "left": null,
            "margin": null,
            "max_height": null,
            "max_width": null,
            "min_height": null,
            "min_width": null,
            "object_fit": null,
            "object_position": null,
            "order": null,
            "overflow": null,
            "overflow_x": null,
            "overflow_y": null,
            "padding": null,
            "right": null,
            "top": null,
            "visibility": null,
            "width": null
          }
        },
        "efa85b5401d34a94bd118d82cb4ac350": {
          "model_module": "@jupyter-widgets/controls",
          "model_name": "DescriptionStyleModel",
          "model_module_version": "1.5.0",
          "state": {
            "_model_module": "@jupyter-widgets/controls",
            "_model_module_version": "1.5.0",
            "_model_name": "DescriptionStyleModel",
            "_view_count": null,
            "_view_module": "@jupyter-widgets/base",
            "_view_module_version": "1.2.0",
            "_view_name": "StyleView",
            "description_width": ""
          }
        },
        "6bfc2c1d30c54296b393e4bbb3a46e2c": {
          "model_module": "@jupyter-widgets/base",
          "model_name": "LayoutModel",
          "model_module_version": "1.2.0",
          "state": {
            "_model_module": "@jupyter-widgets/base",
            "_model_module_version": "1.2.0",
            "_model_name": "LayoutModel",
            "_view_count": null,
            "_view_module": "@jupyter-widgets/base",
            "_view_module_version": "1.2.0",
            "_view_name": "LayoutView",
            "align_content": null,
            "align_items": null,
            "align_self": null,
            "border": null,
            "bottom": null,
            "display": null,
            "flex": null,
            "flex_flow": null,
            "grid_area": null,
            "grid_auto_columns": null,
            "grid_auto_flow": null,
            "grid_auto_rows": null,
            "grid_column": null,
            "grid_gap": null,
            "grid_row": null,
            "grid_template_areas": null,
            "grid_template_columns": null,
            "grid_template_rows": null,
            "height": null,
            "justify_content": null,
            "justify_items": null,
            "left": null,
            "margin": null,
            "max_height": null,
            "max_width": null,
            "min_height": null,
            "min_width": null,
            "object_fit": null,
            "object_position": null,
            "order": null,
            "overflow": null,
            "overflow_x": null,
            "overflow_y": null,
            "padding": null,
            "right": null,
            "top": null,
            "visibility": null,
            "width": null
          }
        },
        "ca17bab7b1934ea7a73871f9e815368e": {
          "model_module": "@jupyter-widgets/controls",
          "model_name": "ProgressStyleModel",
          "model_module_version": "1.5.0",
          "state": {
            "_model_module": "@jupyter-widgets/controls",
            "_model_module_version": "1.5.0",
            "_model_name": "ProgressStyleModel",
            "_view_count": null,
            "_view_module": "@jupyter-widgets/base",
            "_view_module_version": "1.2.0",
            "_view_name": "StyleView",
            "bar_color": null,
            "description_width": ""
          }
        },
        "14614d5d482f4951a36cac6673f48479": {
          "model_module": "@jupyter-widgets/base",
          "model_name": "LayoutModel",
          "model_module_version": "1.2.0",
          "state": {
            "_model_module": "@jupyter-widgets/base",
            "_model_module_version": "1.2.0",
            "_model_name": "LayoutModel",
            "_view_count": null,
            "_view_module": "@jupyter-widgets/base",
            "_view_module_version": "1.2.0",
            "_view_name": "LayoutView",
            "align_content": null,
            "align_items": null,
            "align_self": null,
            "border": null,
            "bottom": null,
            "display": null,
            "flex": null,
            "flex_flow": null,
            "grid_area": null,
            "grid_auto_columns": null,
            "grid_auto_flow": null,
            "grid_auto_rows": null,
            "grid_column": null,
            "grid_gap": null,
            "grid_row": null,
            "grid_template_areas": null,
            "grid_template_columns": null,
            "grid_template_rows": null,
            "height": null,
            "justify_content": null,
            "justify_items": null,
            "left": null,
            "margin": null,
            "max_height": null,
            "max_width": null,
            "min_height": null,
            "min_width": null,
            "object_fit": null,
            "object_position": null,
            "order": null,
            "overflow": null,
            "overflow_x": null,
            "overflow_y": null,
            "padding": null,
            "right": null,
            "top": null,
            "visibility": null,
            "width": null
          }
        },
        "2b97f1d3a0e343febffa6d2250ac683e": {
          "model_module": "@jupyter-widgets/controls",
          "model_name": "DescriptionStyleModel",
          "model_module_version": "1.5.0",
          "state": {
            "_model_module": "@jupyter-widgets/controls",
            "_model_module_version": "1.5.0",
            "_model_name": "DescriptionStyleModel",
            "_view_count": null,
            "_view_module": "@jupyter-widgets/base",
            "_view_module_version": "1.2.0",
            "_view_name": "StyleView",
            "description_width": ""
          }
        },
        "8624756fc4104b59bf717e042647e673": {
          "model_module": "@jupyter-widgets/controls",
          "model_name": "HBoxModel",
          "model_module_version": "1.5.0",
          "state": {
            "_dom_classes": [],
            "_model_module": "@jupyter-widgets/controls",
            "_model_module_version": "1.5.0",
            "_model_name": "HBoxModel",
            "_view_count": null,
            "_view_module": "@jupyter-widgets/controls",
            "_view_module_version": "1.5.0",
            "_view_name": "HBoxView",
            "box_style": "",
            "children": [
              "IPY_MODEL_51757f2435cb4befa44dc04c3a671716",
              "IPY_MODEL_5fb4d8118747416a8e7719c13ede1eb6",
              "IPY_MODEL_e9d3ca6d6a0b4e498e3c0a321558c292"
            ],
            "layout": "IPY_MODEL_391a323ed83543a0b77d117e56994a42"
          }
        },
        "51757f2435cb4befa44dc04c3a671716": {
          "model_module": "@jupyter-widgets/controls",
          "model_name": "HTMLModel",
          "model_module_version": "1.5.0",
          "state": {
            "_dom_classes": [],
            "_model_module": "@jupyter-widgets/controls",
            "_model_module_version": "1.5.0",
            "_model_name": "HTMLModel",
            "_view_count": null,
            "_view_module": "@jupyter-widgets/controls",
            "_view_module_version": "1.5.0",
            "_view_name": "HTMLView",
            "description": "",
            "description_tooltip": null,
            "layout": "IPY_MODEL_05b8038bfc8243e3a2c6074438108180",
            "placeholder": "​",
            "style": "IPY_MODEL_38363247361a438a81f7ce48d7de77ea",
            "value": "Downloading: 100%"
          }
        },
        "5fb4d8118747416a8e7719c13ede1eb6": {
          "model_module": "@jupyter-widgets/controls",
          "model_name": "FloatProgressModel",
          "model_module_version": "1.5.0",
          "state": {
            "_dom_classes": [],
            "_model_module": "@jupyter-widgets/controls",
            "_model_module_version": "1.5.0",
            "_model_name": "FloatProgressModel",
            "_view_count": null,
            "_view_module": "@jupyter-widgets/controls",
            "_view_module_version": "1.5.0",
            "_view_name": "ProgressView",
            "bar_style": "success",
            "description": "",
            "description_tooltip": null,
            "layout": "IPY_MODEL_6af65f24584a4b70bcb2d563c571aea5",
            "max": 456318,
            "min": 0,
            "orientation": "horizontal",
            "style": "IPY_MODEL_0829d85b7e1f449cab585844db5dbe73",
            "value": 456318
          }
        },
        "e9d3ca6d6a0b4e498e3c0a321558c292": {
          "model_module": "@jupyter-widgets/controls",
          "model_name": "HTMLModel",
          "model_module_version": "1.5.0",
          "state": {
            "_dom_classes": [],
            "_model_module": "@jupyter-widgets/controls",
            "_model_module_version": "1.5.0",
            "_model_name": "HTMLModel",
            "_view_count": null,
            "_view_module": "@jupyter-widgets/controls",
            "_view_module_version": "1.5.0",
            "_view_name": "HTMLView",
            "description": "",
            "description_tooltip": null,
            "layout": "IPY_MODEL_a951a4b3a7324c6fb9d0b89ce66eed16",
            "placeholder": "​",
            "style": "IPY_MODEL_b3b1b23cad964c0f8453ed6cb9b37815",
            "value": " 456k/456k [00:00&lt;00:00, 1.73MB/s]"
          }
        },
        "391a323ed83543a0b77d117e56994a42": {
          "model_module": "@jupyter-widgets/base",
          "model_name": "LayoutModel",
          "model_module_version": "1.2.0",
          "state": {
            "_model_module": "@jupyter-widgets/base",
            "_model_module_version": "1.2.0",
            "_model_name": "LayoutModel",
            "_view_count": null,
            "_view_module": "@jupyter-widgets/base",
            "_view_module_version": "1.2.0",
            "_view_name": "LayoutView",
            "align_content": null,
            "align_items": null,
            "align_self": null,
            "border": null,
            "bottom": null,
            "display": null,
            "flex": null,
            "flex_flow": null,
            "grid_area": null,
            "grid_auto_columns": null,
            "grid_auto_flow": null,
            "grid_auto_rows": null,
            "grid_column": null,
            "grid_gap": null,
            "grid_row": null,
            "grid_template_areas": null,
            "grid_template_columns": null,
            "grid_template_rows": null,
            "height": null,
            "justify_content": null,
            "justify_items": null,
            "left": null,
            "margin": null,
            "max_height": null,
            "max_width": null,
            "min_height": null,
            "min_width": null,
            "object_fit": null,
            "object_position": null,
            "order": null,
            "overflow": null,
            "overflow_x": null,
            "overflow_y": null,
            "padding": null,
            "right": null,
            "top": null,
            "visibility": null,
            "width": null
          }
        },
        "05b8038bfc8243e3a2c6074438108180": {
          "model_module": "@jupyter-widgets/base",
          "model_name": "LayoutModel",
          "model_module_version": "1.2.0",
          "state": {
            "_model_module": "@jupyter-widgets/base",
            "_model_module_version": "1.2.0",
            "_model_name": "LayoutModel",
            "_view_count": null,
            "_view_module": "@jupyter-widgets/base",
            "_view_module_version": "1.2.0",
            "_view_name": "LayoutView",
            "align_content": null,
            "align_items": null,
            "align_self": null,
            "border": null,
            "bottom": null,
            "display": null,
            "flex": null,
            "flex_flow": null,
            "grid_area": null,
            "grid_auto_columns": null,
            "grid_auto_flow": null,
            "grid_auto_rows": null,
            "grid_column": null,
            "grid_gap": null,
            "grid_row": null,
            "grid_template_areas": null,
            "grid_template_columns": null,
            "grid_template_rows": null,
            "height": null,
            "justify_content": null,
            "justify_items": null,
            "left": null,
            "margin": null,
            "max_height": null,
            "max_width": null,
            "min_height": null,
            "min_width": null,
            "object_fit": null,
            "object_position": null,
            "order": null,
            "overflow": null,
            "overflow_x": null,
            "overflow_y": null,
            "padding": null,
            "right": null,
            "top": null,
            "visibility": null,
            "width": null
          }
        },
        "38363247361a438a81f7ce48d7de77ea": {
          "model_module": "@jupyter-widgets/controls",
          "model_name": "DescriptionStyleModel",
          "model_module_version": "1.5.0",
          "state": {
            "_model_module": "@jupyter-widgets/controls",
            "_model_module_version": "1.5.0",
            "_model_name": "DescriptionStyleModel",
            "_view_count": null,
            "_view_module": "@jupyter-widgets/base",
            "_view_module_version": "1.2.0",
            "_view_name": "StyleView",
            "description_width": ""
          }
        },
        "6af65f24584a4b70bcb2d563c571aea5": {
          "model_module": "@jupyter-widgets/base",
          "model_name": "LayoutModel",
          "model_module_version": "1.2.0",
          "state": {
            "_model_module": "@jupyter-widgets/base",
            "_model_module_version": "1.2.0",
            "_model_name": "LayoutModel",
            "_view_count": null,
            "_view_module": "@jupyter-widgets/base",
            "_view_module_version": "1.2.0",
            "_view_name": "LayoutView",
            "align_content": null,
            "align_items": null,
            "align_self": null,
            "border": null,
            "bottom": null,
            "display": null,
            "flex": null,
            "flex_flow": null,
            "grid_area": null,
            "grid_auto_columns": null,
            "grid_auto_flow": null,
            "grid_auto_rows": null,
            "grid_column": null,
            "grid_gap": null,
            "grid_row": null,
            "grid_template_areas": null,
            "grid_template_columns": null,
            "grid_template_rows": null,
            "height": null,
            "justify_content": null,
            "justify_items": null,
            "left": null,
            "margin": null,
            "max_height": null,
            "max_width": null,
            "min_height": null,
            "min_width": null,
            "object_fit": null,
            "object_position": null,
            "order": null,
            "overflow": null,
            "overflow_x": null,
            "overflow_y": null,
            "padding": null,
            "right": null,
            "top": null,
            "visibility": null,
            "width": null
          }
        },
        "0829d85b7e1f449cab585844db5dbe73": {
          "model_module": "@jupyter-widgets/controls",
          "model_name": "ProgressStyleModel",
          "model_module_version": "1.5.0",
          "state": {
            "_model_module": "@jupyter-widgets/controls",
            "_model_module_version": "1.5.0",
            "_model_name": "ProgressStyleModel",
            "_view_count": null,
            "_view_module": "@jupyter-widgets/base",
            "_view_module_version": "1.2.0",
            "_view_name": "StyleView",
            "bar_color": null,
            "description_width": ""
          }
        },
        "a951a4b3a7324c6fb9d0b89ce66eed16": {
          "model_module": "@jupyter-widgets/base",
          "model_name": "LayoutModel",
          "model_module_version": "1.2.0",
          "state": {
            "_model_module": "@jupyter-widgets/base",
            "_model_module_version": "1.2.0",
            "_model_name": "LayoutModel",
            "_view_count": null,
            "_view_module": "@jupyter-widgets/base",
            "_view_module_version": "1.2.0",
            "_view_name": "LayoutView",
            "align_content": null,
            "align_items": null,
            "align_self": null,
            "border": null,
            "bottom": null,
            "display": null,
            "flex": null,
            "flex_flow": null,
            "grid_area": null,
            "grid_auto_columns": null,
            "grid_auto_flow": null,
            "grid_auto_rows": null,
            "grid_column": null,
            "grid_gap": null,
            "grid_row": null,
            "grid_template_areas": null,
            "grid_template_columns": null,
            "grid_template_rows": null,
            "height": null,
            "justify_content": null,
            "justify_items": null,
            "left": null,
            "margin": null,
            "max_height": null,
            "max_width": null,
            "min_height": null,
            "min_width": null,
            "object_fit": null,
            "object_position": null,
            "order": null,
            "overflow": null,
            "overflow_x": null,
            "overflow_y": null,
            "padding": null,
            "right": null,
            "top": null,
            "visibility": null,
            "width": null
          }
        },
        "b3b1b23cad964c0f8453ed6cb9b37815": {
          "model_module": "@jupyter-widgets/controls",
          "model_name": "DescriptionStyleModel",
          "model_module_version": "1.5.0",
          "state": {
            "_model_module": "@jupyter-widgets/controls",
            "_model_module_version": "1.5.0",
            "_model_name": "DescriptionStyleModel",
            "_view_count": null,
            "_view_module": "@jupyter-widgets/base",
            "_view_module_version": "1.2.0",
            "_view_name": "StyleView",
            "description_width": ""
          }
        }
      }
    }
  },
  "cells": [
    {
      "cell_type": "code",
      "execution_count": 1,
      "metadata": {
        "colab": {
          "base_uri": "https://localhost:8080/"
        },
        "id": "elXococmTq1d",
        "outputId": "7cf75abb-6d6d-4c3c-868d-72d2f8ac0031"
      },
      "outputs": [
        {
          "output_type": "stream",
          "name": "stdout",
          "text": [
            "Mounted at /content/drive\n"
          ]
        }
      ],
      "source": [
        "from google.colab import drive\n",
        "drive.mount('/content/drive')"
      ]
    },
    {
      "cell_type": "code",
      "source": [
        "import os\n",
        "for directory_name, _, file_names in os.walk('/content/drive/MyDrive/text_summary/'):\n",
        "    for file in file_names:\n",
        "        print(os.path.join(directory_name, file))"
      ],
      "metadata": {
        "colab": {
          "base_uri": "https://localhost:8080/"
        },
        "id": "i-ZkoMSrT3zj",
        "outputId": "d74010f5-1ee5-45d5-9ac0-b0555548497d"
      },
      "execution_count": 6,
      "outputs": [
        {
          "output_type": "stream",
          "name": "stdout",
          "text": [
            "/content/drive/MyDrive/text_summary/test.csv\n",
            "/content/drive/MyDrive/text_summary/train.csv\n",
            "/content/drive/MyDrive/text_summary/validation.csv\n"
          ]
        }
      ]
    },
    {
      "cell_type": "code",
      "source": [
        "test_data  = '/content/drive/MyDrive/text_summary/test.csv'\n",
        "train_data = '/content/drive/MyDrive/text_summary/test.csv'\n",
        "valid_data = '/content/drive/MyDrive/text_summary/validation.csv'"
      ],
      "metadata": {
        "id": "YfKiu90OURFx"
      },
      "execution_count": 9,
      "outputs": []
    },
    {
      "cell_type": "code",
      "source": [
        "import pandas as pan\n",
        "train_ts = pan.read_csv(train_data)\n",
        "test_ts  = pan.read_csv(test_data)\n",
        "valid_ts = pan.read_csv(valid_data)"
      ],
      "metadata": {
        "id": "nEObqgVaU2VH"
      },
      "execution_count": 10,
      "outputs": []
    },
    {
      "cell_type": "code",
      "source": [
        "print(f\"train dataset shape: {train_ts.shape}\")\n",
        "print(f\"test dataset shape: {test_ts.shape}\")\n",
        "print(f\"valid dataset shape: {valid_ts.shape}\")"
      ],
      "metadata": {
        "colab": {
          "base_uri": "https://localhost:8080/"
        },
        "id": "GHmrW6XfVlTX",
        "outputId": "e10d53c2-a2bf-46ba-aebf-0b5e1c071a32"
      },
      "execution_count": 11,
      "outputs": [
        {
          "output_type": "stream",
          "name": "stdout",
          "text": [
            "train dataset shape: (11490, 3)\n",
            "test dataset shape: (11490, 3)\n",
            "valid dataset shape: (13368, 3)\n"
          ]
        }
      ]
    },
    {
      "cell_type": "code",
      "source": [
        "from nltk.corpus import stopwords\n",
        "import spacy\n",
        "from spacy.lang.en.stop_words import STOP_WORDS\n",
        "from string import punctuation"
      ],
      "metadata": {
        "colab": {
          "base_uri": "https://localhost:8080/"
        },
        "id": "WRw8sOf7V_dx",
        "outputId": "d80ce220-d601-4ad1-d1f7-3f752c66da11"
      },
      "execution_count": 12,
      "outputs": [
        {
          "output_type": "stream",
          "name": "stderr",
          "text": [
            "/usr/local/lib/python3.8/dist-packages/torch/cuda/__init__.py:497: UserWarning: Can't initialize NVML\n",
            "  warnings.warn(\"Can't initialize NVML\")\n"
          ]
        }
      ]
    },
    {
      "cell_type": "markdown",
      "source": [
        "Techniques used in pre-processing"
      ],
      "metadata": {
        "id": "1WG2ufrhWQMx"
      }
    },
    {
      "cell_type": "code",
      "source": [
        "removal_of_stopwords = list(STOP_WORDS)"
      ],
      "metadata": {
        "id": "DwZq3ZyLWIrb"
      },
      "execution_count": 13,
      "outputs": []
    },
    {
      "cell_type": "code",
      "source": [
        "ts = spacy.load('en_core_web_sm')"
      ],
      "metadata": {
        "id": "sYnp1OwXWeSU"
      },
      "execution_count": 14,
      "outputs": []
    },
    {
      "cell_type": "code",
      "source": [
        "info=ts(train_ts['article'][5])"
      ],
      "metadata": {
        "id": "Ms4R1urEWidP"
      },
      "execution_count": 15,
      "outputs": []
    },
    {
      "cell_type": "code",
      "source": [
        "tokenize = [token.text for token in info]\n",
        "print(tokenize)"
      ],
      "metadata": {
        "colab": {
          "base_uri": "https://localhost:8080/"
        },
        "id": "T3ueYvoIWv65",
        "outputId": "a0c0d0ca-ba01-4f0d-d1e6-3ef0dc28551a"
      },
      "execution_count": 16,
      "outputs": [
        {
          "output_type": "stream",
          "name": "stdout",
          "text": [
            "['This', 'is', 'the', 'moment', 'that', 'a', 'crew', 'of', 'firefighters', 'struggled', 'to', 'haul', 'a', 'giant', ' ', 'pig', 'out', 'of', 'a', 'garden', 'swimming', 'pool', '.', 'The', 'prize', 'porker', ',', 'known', ' ', 'as', 'Pigwig', ',', 'had', 'fallen', 'into', 'the', 'pool', 'in', 'an', 'upmarket', 'neighbourhood', 'in', 'Ringwood', ',', 'Hampshire', '.', 'His', 'owners', 'had', 'been', 'taking', 'him', 'for', 'a', 'walk', 'around', 'the', 'garden', 'when', 'the', 'animal', 'plunged', 'into', 'the', 'water', 'and', 'was', 'unable', 'to', 'get', 'out', '.', 'A', 'team', 'from', 'Dorset', 'Fire', 'and', 'Rescue', 'struggled', 'to', 'haul', 'the', 'huge', 'black', 'pig', 'out', 'of', 'swimming', 'pool', 'water', '.', 'The', 'prize', 'porker', 'known', 'as', 'Pigwig', 'had', 'fallen', 'into', 'the', 'water', 'and', 'had', 'then', 'been', 'unable', 'to', 'get', 'out', 'again', '.', 'Two', 'fire', 'crews', 'and', 'a', 'specialist', 'animal', 'rescue', 'team', 'had', 'to', 'use', 'slide', 'boards', 'and', 'strops', 'to', 'haul', 'the', 'huge', 'black', 'pig', 'from', 'the', 'small', 'pool', '.', 'A', 'spokesman', 'for', 'Dorset', 'Fire', 'and', 'Rescue', 'Service', 'said', ':', \"'\", 'At', '4.50pm', 'yesterday', 'the', 'service', 'received', 'a', 'call', 'to', 'a', 'pig', 'stuck', 'in', 'a', 'swimming', 'pool', '.', \"'\", 'One', 'crew', 'of', 'firefighters', 'from', 'Ferndown', 'and', 'a', 'specialist', 'animal', 'rescue', 'unit', 'from', 'Poole', 'were', 'mobilised', 'to', 'this', 'incident', '.', \"'\", 'Once', 'in', 'attendance', 'the', 'crew', 'secured', 'the', 'pig', 'with', 'strops', ',', 'and', 'requested', 'the', 'attendance', 'of', 'another', 'appliance', 'which', 'was', 'mobilised', 'from', 'Ringwood', 'by', 'our', 'colleagues', 'in', 'Hampshire', 'Fire', 'and', 'Rescue', 'Service', '.', 'Firefighters', 'were', 'also', 'called', 'out', 'to', 'a', 'horse', 'which', 'had', 'fallen', 'into', 'a', 'swimming', 'pool', 'in', 'Heyshott', ',', 'West', 'Sussex', '.', 'The', 'exhausted', 'animal', 'had', 'to', 'be', 'winched', 'to', 'using', 'an', 'all', '-', 'terrain', 'crane', 'but', 'appeared', 'no', 'worse', 'for', 'wear', 'after', 'its', 'tumble', '.', \"'\", 'The', 'crew', 'rescued', 'the', 'pig', 'from', 'the', 'swimming', 'pool', 'using', 'specialist', 'animal', 'rescue', 'slide', 'boards', ',', 'strops', 'and', 'lines', 'to', 'haul', 'the', 'pig', 'from', 'the', 'swimming', 'pool', '.', \"'\", 'But', 'Pigwig', 'was', \"n't\", 'the', 'only', 'animal', 'who', 'needed', 'rescuing', 'after', 'taking', 'an', 'unexpected', 'swim', '.', 'Crews', 'in', 'West', 'Sussex', 'were', 'called', 'out', 'to', 'a', 'swimming', 'pool', 'where', 'this', 'time', 'a', 'horse', 'had', 'fallen', 'in', '.', 'Wet', 'and', 'very', 'bedraggled', ',', 'the', 'exhausted', 'animal', 'put', 'up', 'no', 'opposition', 'when', 'firefighters', 'arrived', 'to', 'hoist', 'her', 'out', 'of', 'the', 'small', 'garden', 'pool', 'in', '\\xa0', 'Heyshott', '.', 'The', 'two', '-', 'hour', 'rescue', 'operation', 'ended', 'with', 'the', 'wayward', 'horse', 'being', 'fitted', 'with', 'straps', 'under', 'her', 'belly', 'and', 'lifted', 'up', 'into', 'the', 'air', 'with', 'an', 'all', '-', 'terrain', 'crane', 'before', 'being', 'swung', 'around', 'and', 'deposited', 'back', 'on', 'dry', 'land', '.', 'A', 'fire', 'brigade', 'spokesman', 'said', 'that', 'she', 'appeared', 'none', 'the', 'worse', 'for', 'her', 'impromptu', 'swim', 'after', 'stepping', 'over', 'the', 'edge', 'of', 'the', 'domestic', 'pool', '.']\n"
          ]
        }
      ]
    },
    {
      "cell_type": "code",
      "source": [
        "removal_of_punctuation = punctuation + '\\n'\n",
        "removal_of_punctuation"
      ],
      "metadata": {
        "colab": {
          "base_uri": "https://localhost:8080/",
          "height": 36
        },
        "id": "tqPZHeucW28p",
        "outputId": "935a94a0-0099-4279-c77c-3315307f04ec"
      },
      "execution_count": 17,
      "outputs": [
        {
          "output_type": "execute_result",
          "data": {
            "text/plain": [
              "'!\"#$%&\\'()*+,-./:;<=>?@[\\\\]^_`{|}~\\n'"
            ],
            "application/vnd.google.colaboratory.intrinsic+json": {
              "type": "string"
            }
          },
          "metadata": {},
          "execution_count": 17
        }
      ]
    },
    {
      "cell_type": "markdown",
      "source": [
        "Sentence Ranking"
      ],
      "metadata": {
        "id": "ETp5s9e2XBXi"
      }
    },
    {
      "cell_type": "code",
      "source": [
        "frequency_count = {}\n",
        "for word in info:\n",
        "    if word.text.lower() not in removal_of_stopwords:\n",
        "        if word.text.lower() not in removal_of_punctuation:\n",
        "            if word.text not in frequency_count.keys():\n",
        "                frequency_count[word.text] = 1\n",
        "            else:\n",
        "                frequency_count[word.text] += 1\n",
        "                \n",
        "print(frequency_count)"
      ],
      "metadata": {
        "colab": {
          "base_uri": "https://localhost:8080/"
        },
        "id": "B4qozoltW-xu",
        "outputId": "1496541b-78f4-45c6-d351-7e5796cb6409"
      },
      "execution_count": 18,
      "outputs": [
        {
          "output_type": "stream",
          "name": "stdout",
          "text": [
            "{'moment': 1, 'crew': 4, 'firefighters': 3, 'struggled': 2, 'haul': 4, 'giant': 1, ' ': 2, 'pig': 7, 'garden': 3, 'swimming': 7, 'pool': 11, 'prize': 2, 'porker': 2, 'known': 2, 'Pigwig': 3, 'fallen': 4, 'upmarket': 1, 'neighbourhood': 1, 'Ringwood': 2, 'Hampshire': 2, 'owners': 1, 'taking': 2, 'walk': 1, 'animal': 7, 'plunged': 1, 'water': 3, 'unable': 2, 'team': 2, 'Dorset': 2, 'Fire': 3, 'Rescue': 3, 'huge': 2, 'black': 2, 'fire': 2, 'crews': 1, 'specialist': 3, 'rescue': 4, 'use': 1, 'slide': 2, 'boards': 2, 'strops': 3, 'small': 2, 'spokesman': 2, 'Service': 2, 'said': 2, '4.50pm': 1, 'yesterday': 1, 'service': 1, 'received': 1, 'stuck': 1, 'Ferndown': 1, 'unit': 1, 'Poole': 1, 'mobilised': 2, 'incident': 1, 'attendance': 2, 'secured': 1, 'requested': 1, 'appliance': 1, 'colleagues': 1, 'Firefighters': 1, 'called': 2, 'horse': 3, 'Heyshott': 2, 'West': 2, 'Sussex': 2, 'exhausted': 2, 'winched': 1, 'terrain': 2, 'crane': 2, 'appeared': 2, 'worse': 2, 'wear': 1, 'tumble': 1, 'rescued': 1, 'lines': 1, 'needed': 1, 'rescuing': 1, 'unexpected': 1, 'swim': 2, 'Crews': 1, 'time': 1, 'Wet': 1, 'bedraggled': 1, 'opposition': 1, 'arrived': 1, 'hoist': 1, '\\xa0': 1, 'hour': 1, 'operation': 1, 'ended': 1, 'wayward': 1, 'fitted': 1, 'straps': 1, 'belly': 1, 'lifted': 1, 'air': 1, 'swung': 1, 'deposited': 1, 'dry': 1, 'land': 1, 'brigade': 1, 'impromptu': 1, 'stepping': 1, 'edge': 1, 'domestic': 1}\n"
          ]
        }
      ]
    },
    {
      "cell_type": "code",
      "source": [
        "highest_count = max(frequency_count.values())\n",
        "highest_count"
      ],
      "metadata": {
        "colab": {
          "base_uri": "https://localhost:8080/"
        },
        "id": "1OvMBUnBYU6h",
        "outputId": "3cb72dfc-0ebe-4472-e490-4e6613cccee7"
      },
      "execution_count": 19,
      "outputs": [
        {
          "output_type": "execute_result",
          "data": {
            "text/plain": [
              "11"
            ]
          },
          "metadata": {},
          "execution_count": 19
        }
      ]
    },
    {
      "cell_type": "code",
      "source": [
        "for word in frequency_count.keys():\n",
        "    frequency_count[word] = frequency_count[word]/highest_count\n",
        "print(frequency_count)"
      ],
      "metadata": {
        "colab": {
          "base_uri": "https://localhost:8080/"
        },
        "id": "snWyjNX5YvMc",
        "outputId": "c4736b8a-73ad-4799-8ae3-99dde949378c"
      },
      "execution_count": 20,
      "outputs": [
        {
          "output_type": "stream",
          "name": "stdout",
          "text": [
            "{'moment': 0.09090909090909091, 'crew': 0.36363636363636365, 'firefighters': 0.2727272727272727, 'struggled': 0.18181818181818182, 'haul': 0.36363636363636365, 'giant': 0.09090909090909091, ' ': 0.18181818181818182, 'pig': 0.6363636363636364, 'garden': 0.2727272727272727, 'swimming': 0.6363636363636364, 'pool': 1.0, 'prize': 0.18181818181818182, 'porker': 0.18181818181818182, 'known': 0.18181818181818182, 'Pigwig': 0.2727272727272727, 'fallen': 0.36363636363636365, 'upmarket': 0.09090909090909091, 'neighbourhood': 0.09090909090909091, 'Ringwood': 0.18181818181818182, 'Hampshire': 0.18181818181818182, 'owners': 0.09090909090909091, 'taking': 0.18181818181818182, 'walk': 0.09090909090909091, 'animal': 0.6363636363636364, 'plunged': 0.09090909090909091, 'water': 0.2727272727272727, 'unable': 0.18181818181818182, 'team': 0.18181818181818182, 'Dorset': 0.18181818181818182, 'Fire': 0.2727272727272727, 'Rescue': 0.2727272727272727, 'huge': 0.18181818181818182, 'black': 0.18181818181818182, 'fire': 0.18181818181818182, 'crews': 0.09090909090909091, 'specialist': 0.2727272727272727, 'rescue': 0.36363636363636365, 'use': 0.09090909090909091, 'slide': 0.18181818181818182, 'boards': 0.18181818181818182, 'strops': 0.2727272727272727, 'small': 0.18181818181818182, 'spokesman': 0.18181818181818182, 'Service': 0.18181818181818182, 'said': 0.18181818181818182, '4.50pm': 0.09090909090909091, 'yesterday': 0.09090909090909091, 'service': 0.09090909090909091, 'received': 0.09090909090909091, 'stuck': 0.09090909090909091, 'Ferndown': 0.09090909090909091, 'unit': 0.09090909090909091, 'Poole': 0.09090909090909091, 'mobilised': 0.18181818181818182, 'incident': 0.09090909090909091, 'attendance': 0.18181818181818182, 'secured': 0.09090909090909091, 'requested': 0.09090909090909091, 'appliance': 0.09090909090909091, 'colleagues': 0.09090909090909091, 'Firefighters': 0.09090909090909091, 'called': 0.18181818181818182, 'horse': 0.2727272727272727, 'Heyshott': 0.18181818181818182, 'West': 0.18181818181818182, 'Sussex': 0.18181818181818182, 'exhausted': 0.18181818181818182, 'winched': 0.09090909090909091, 'terrain': 0.18181818181818182, 'crane': 0.18181818181818182, 'appeared': 0.18181818181818182, 'worse': 0.18181818181818182, 'wear': 0.09090909090909091, 'tumble': 0.09090909090909091, 'rescued': 0.09090909090909091, 'lines': 0.09090909090909091, 'needed': 0.09090909090909091, 'rescuing': 0.09090909090909091, 'unexpected': 0.09090909090909091, 'swim': 0.18181818181818182, 'Crews': 0.09090909090909091, 'time': 0.09090909090909091, 'Wet': 0.09090909090909091, 'bedraggled': 0.09090909090909091, 'opposition': 0.09090909090909091, 'arrived': 0.09090909090909091, 'hoist': 0.09090909090909091, '\\xa0': 0.09090909090909091, 'hour': 0.09090909090909091, 'operation': 0.09090909090909091, 'ended': 0.09090909090909091, 'wayward': 0.09090909090909091, 'fitted': 0.09090909090909091, 'straps': 0.09090909090909091, 'belly': 0.09090909090909091, 'lifted': 0.09090909090909091, 'air': 0.09090909090909091, 'swung': 0.09090909090909091, 'deposited': 0.09090909090909091, 'dry': 0.09090909090909091, 'land': 0.09090909090909091, 'brigade': 0.09090909090909091, 'impromptu': 0.09090909090909091, 'stepping': 0.09090909090909091, 'edge': 0.09090909090909091, 'domestic': 0.09090909090909091}\n"
          ]
        }
      ]
    },
    {
      "cell_type": "code",
      "source": [
        "sentence_tokenise = [sent for sent in info.sents]\n",
        "print(sentence_tokenise)"
      ],
      "metadata": {
        "colab": {
          "base_uri": "https://localhost:8080/"
        },
        "id": "769QrjlsY-nI",
        "outputId": "40bb2379-dd3e-40c8-9678-30e759eff75f"
      },
      "execution_count": 21,
      "outputs": [
        {
          "output_type": "stream",
          "name": "stdout",
          "text": [
            "[This is the moment that a crew of firefighters struggled to haul a giant  pig out of a garden swimming pool., The prize porker, known  as Pigwig, had fallen into the pool in an upmarket neighbourhood in Ringwood, Hampshire., His owners had been taking him for a walk around the garden when the animal plunged into the water and was unable to get out., A team from Dorset Fire and Rescue struggled to haul the huge black pig out of swimming pool water ., The prize porker known as Pigwig had fallen into the water and had then been unable to get out again ., Two fire crews and a specialist animal rescue team had to use slide boards and strops to haul the huge black pig from the small pool., A spokesman for Dorset Fire and Rescue Service said: 'At 4.50pm yesterday the service received a call to a pig stuck in a swimming pool., 'One crew of firefighters from Ferndown and a specialist animal rescue unit from Poole were mobilised to this incident., 'Once in attendance the crew secured the pig with strops, and requested the attendance of another appliance which was mobilised from Ringwood by our colleagues in Hampshire Fire and Rescue Service., Firefighters were also called out to a horse which had fallen into a swimming pool in Heyshott, West Sussex ., The exhausted animal had to be winched to using an all-terrain crane but appeared no worse for wear after its tumble ., 'The crew rescued the pig from the swimming pool using specialist animal rescue slide boards, strops and lines to haul the pig from the swimming pool.', But Pigwig wasn't the only animal who needed rescuing after taking an unexpected swim ., Crews in West Sussex were called out to a swimming pool where this time a horse had fallen in., Wet and very bedraggled, the exhausted animal put up no opposition when firefighters arrived to hoist her out of the small garden pool in Heyshott., The two-hour rescue operation ended with the wayward horse being fitted with straps under her belly and lifted up into the air with an all-terrain crane before being swung around and deposited back on dry land., A fire brigade spokesman said that she appeared none the worse for her impromptu swim after stepping over the edge of the domestic pool.]\n"
          ]
        }
      ]
    },
    {
      "cell_type": "code",
      "source": [
        "scoresforsentence = {}\n",
        "for sent in sentence_tokenise:\n",
        "    for word in sent:\n",
        "        if word.text.lower() in frequency_count.keys():\n",
        "            if sent not in scoresforsentence.keys():\n",
        "                scoresforsentence[sent] = frequency_count[word.text.lower()]\n",
        "            else:\n",
        "                scoresforsentence[sent] += frequency_count[word.text.lower()]\n",
        "                \n",
        "scoresforsentence"
      ],
      "metadata": {
        "colab": {
          "base_uri": "https://localhost:8080/"
        },
        "id": "lAlt5DSNZH0x",
        "outputId": "e92949d4-c218-40ae-de9f-b38b1d6bc9cc"
      },
      "execution_count": 22,
      "outputs": [
        {
          "output_type": "execute_result",
          "data": {
            "text/plain": [
              "{This is the moment that a crew of firefighters struggled to haul a giant  pig out of a garden swimming pool.: 4.090909090909092,\n",
              " The prize porker, known  as Pigwig, had fallen into the pool in an upmarket neighbourhood in Ringwood, Hampshire.: 2.2727272727272725,\n",
              " His owners had been taking him for a walk around the garden when the animal plunged into the water and was unable to get out.: 1.8181818181818181,\n",
              " A team from Dorset Fire and Rescue struggled to haul the huge black pig out of swimming pool water .: 4.181818181818182,\n",
              " The prize porker known as Pigwig had fallen into the water and had then been unable to get out again .: 1.3636363636363635,\n",
              " Two fire crews and a specialist animal rescue team had to use slide boards and strops to haul the huge black pig from the small pool.: 4.999999999999999,\n",
              " A spokesman for Dorset Fire and Rescue Service said: 'At 4.50pm yesterday the service received a call to a pig stuck in a swimming pool.: 3.7272727272727266,\n",
              " 'One crew of firefighters from Ferndown and a specialist animal rescue unit from Poole were mobilised to this incident.: 2.2727272727272725,\n",
              " 'Once in attendance the crew secured the pig with strops, and requested the attendance of another appliance which was mobilised from Ringwood by our colleagues in Hampshire Fire and Rescue Service.: 2.818181818181818,\n",
              " Firefighters were also called out to a horse which had fallen into a swimming pool in Heyshott, West Sussex .: 2.727272727272727,\n",
              " The exhausted animal had to be winched to using an all-terrain crane but appeared no worse for wear after its tumble .: 1.8181818181818181,\n",
              " 'The crew rescued the pig from the swimming pool using specialist animal rescue slide boards, strops and lines to haul the pig from the swimming pool.': 7.363636363636363,\n",
              " But Pigwig wasn't the only animal who needed rescuing after taking an unexpected swim .: 1.2727272727272727,\n",
              " Crews in West Sussex were called out to a swimming pool where this time a horse had fallen in.: 2.6363636363636362,\n",
              " Wet and very bedraggled, the exhausted animal put up no opposition when firefighters arrived to hoist her out of the small garden pool in Heyshott.: 3.0,\n",
              " The two-hour rescue operation ended with the wayward horse being fitted with straps under her belly and lifted up into the air with an all-terrain crane before being swung around and deposited back on dry land.: 2.181818181818181,\n",
              " A fire brigade spokesman said that she appeared none the worse for her impromptu swim after stepping over the edge of the domestic pool.: 2.545454545454545}"
            ]
          },
          "metadata": {},
          "execution_count": 22
        }
      ]
    },
    {
      "cell_type": "code",
      "source": [
        "from heapq import nlargest\n",
        "requiredlen = int(len(sentence_tokenise)*0.3)\n",
        "requiredlen"
      ],
      "metadata": {
        "colab": {
          "base_uri": "https://localhost:8080/"
        },
        "id": "UteIriQQZr6d",
        "outputId": "78eb2d67-e8cf-4958-d9e2-c86598215a1e"
      },
      "execution_count": 23,
      "outputs": [
        {
          "output_type": "execute_result",
          "data": {
            "text/plain": [
              "5"
            ]
          },
          "metadata": {},
          "execution_count": 23
        }
      ]
    },
    {
      "cell_type": "code",
      "source": [
        "summaryforsr = nlargest(requiredlen, scoresforsentence, key = scoresforsentence.get)\n",
        "summaryforsr"
      ],
      "metadata": {
        "colab": {
          "base_uri": "https://localhost:8080/"
        },
        "id": "jCslKVqFZ9fU",
        "outputId": "981d367b-4afb-4e39-bbfd-51686c048e81"
      },
      "execution_count": 24,
      "outputs": [
        {
          "output_type": "execute_result",
          "data": {
            "text/plain": [
              "['The crew rescued the pig from the swimming pool using specialist animal rescue slide boards, strops and lines to haul the pig from the swimming pool.',\n",
              " Two fire crews and a specialist animal rescue team had to use slide boards and strops to haul the huge black pig from the small pool.,\n",
              " A team from Dorset Fire and Rescue struggled to haul the huge black pig out of swimming pool water .,\n",
              " This is the moment that a crew of firefighters struggled to haul a giant  pig out of a garden swimming pool.,\n",
              " A spokesman for Dorset Fire and Rescue Service said: 'At 4.50pm yesterday the service received a call to a pig stuck in a swimming pool.]"
            ]
          },
          "metadata": {},
          "execution_count": 24
        }
      ]
    },
    {
      "cell_type": "code",
      "source": [
        "summaryforsr_ = [word.text for word in summaryforsr]\n",
        "summaryforsr= ' '.join(summaryforsr_)"
      ],
      "metadata": {
        "id": "MWGMWCxjaLn1"
      },
      "execution_count": 25,
      "outputs": []
    },
    {
      "cell_type": "code",
      "source": [
        "print(train_ts['article'][5])"
      ],
      "metadata": {
        "colab": {
          "base_uri": "https://localhost:8080/"
        },
        "id": "ymol7BiBak69",
        "outputId": "03296692-eee0-4c3d-d78e-31d149905396"
      },
      "execution_count": 26,
      "outputs": [
        {
          "output_type": "stream",
          "name": "stdout",
          "text": [
            "This is the moment that a crew of firefighters struggled to haul a giant  pig out of a garden swimming pool. The prize porker, known  as Pigwig, had fallen into the pool in an upmarket neighbourhood in Ringwood, Hampshire. His owners had been taking him for a walk around the garden when the animal plunged into the water and was unable to get out. A team from Dorset Fire and Rescue struggled to haul the huge black pig out of swimming pool water . The prize porker known as Pigwig had fallen into the water and had then been unable to get out again . Two fire crews and a specialist animal rescue team had to use slide boards and strops to haul the huge black pig from the small pool. A spokesman for Dorset Fire and Rescue Service said: 'At 4.50pm yesterday the service received a call to a pig stuck in a swimming pool. 'One crew of firefighters from Ferndown and a specialist animal rescue unit from Poole were mobilised to this incident. 'Once in attendance the crew secured the pig with strops, and requested the attendance of another appliance which was mobilised from Ringwood by our colleagues in Hampshire Fire and Rescue Service. Firefighters were also called out to a horse which had fallen into a swimming pool in Heyshott, West Sussex . The exhausted animal had to be winched to using an all-terrain crane but appeared no worse for wear after its tumble . 'The crew rescued the pig from the swimming pool using specialist animal rescue slide boards, strops and lines to haul the pig from the swimming pool.' But Pigwig wasn't the only animal who needed rescuing after taking an unexpected swim . Crews in West Sussex were called out to a swimming pool where this time a horse had fallen in. Wet and very bedraggled, the exhausted animal put up no opposition when firefighters arrived to hoist her out of the small garden pool in Heyshott. The two-hour rescue operation ended with the wayward horse being fitted with straps under her belly and lifted up into the air with an all-terrain crane before being swung around and deposited back on dry land. A fire brigade spokesman said that she appeared none the worse for her impromptu swim after stepping over the edge of the domestic pool.\n"
          ]
        }
      ]
    },
    {
      "cell_type": "code",
      "source": [
        "print(summaryforsr)"
      ],
      "metadata": {
        "colab": {
          "base_uri": "https://localhost:8080/"
        },
        "id": "oDFpgYNYapgd",
        "outputId": "17ef48e1-87ea-4720-c611-b9155b3d2330"
      },
      "execution_count": 27,
      "outputs": [
        {
          "output_type": "stream",
          "name": "stdout",
          "text": [
            "'The crew rescued the pig from the swimming pool using specialist animal rescue slide boards, strops and lines to haul the pig from the swimming pool.' Two fire crews and a specialist animal rescue team had to use slide boards and strops to haul the huge black pig from the small pool. A team from Dorset Fire and Rescue struggled to haul the huge black pig out of swimming pool water . This is the moment that a crew of firefighters struggled to haul a giant  pig out of a garden swimming pool. A spokesman for Dorset Fire and Rescue Service said: 'At 4.50pm yesterday the service received a call to a pig stuck in a swimming pool.\n"
          ]
        }
      ]
    },
    {
      "cell_type": "code",
      "source": [
        "print(train_ts['highlights'][5])"
      ],
      "metadata": {
        "colab": {
          "base_uri": "https://localhost:8080/"
        },
        "id": "GOI0qmiQatM4",
        "outputId": "9413a9bc-436f-4de5-ddbc-ba2babf1162e"
      },
      "execution_count": 28,
      "outputs": [
        {
          "output_type": "stream",
          "name": "stdout",
          "text": [
            "Giant pig fell into the swimming pool at his home in Ringwood, Hampshire .\n",
            "It took the efforts of a team of firefighters to winch him out of the water .\n",
            "A wayward horse also had to be rescued from a swimming pool in Sussex .\n"
          ]
        }
      ]
    },
    {
      "cell_type": "markdown",
      "source": [
        "BART"
      ],
      "metadata": {
        "id": "c8Wts7j0bd9g"
      }
    },
    {
      "cell_type": "code",
      "source": [
        "pip install transformers"
      ],
      "metadata": {
        "colab": {
          "base_uri": "https://localhost:8080/"
        },
        "id": "lxch83dKbb9t",
        "outputId": "4ee72d40-94f4-4ab2-8109-8d6e13a27a04"
      },
      "execution_count": 29,
      "outputs": [
        {
          "output_type": "stream",
          "name": "stdout",
          "text": [
            "Looking in indexes: https://pypi.org/simple, https://us-python.pkg.dev/colab-wheels/public/simple/\n",
            "Collecting transformers\n",
            "  Downloading transformers-4.25.1-py3-none-any.whl (5.8 MB)\n",
            "\u001b[K     |████████████████████████████████| 5.8 MB 29.4 MB/s \n",
            "\u001b[?25hCollecting tokenizers!=0.11.3,<0.14,>=0.11.1\n",
            "  Downloading tokenizers-0.13.2-cp38-cp38-manylinux_2_17_x86_64.manylinux2014_x86_64.whl (7.6 MB)\n",
            "\u001b[K     |████████████████████████████████| 7.6 MB 49.2 MB/s \n",
            "\u001b[?25hRequirement already satisfied: packaging>=20.0 in /usr/local/lib/python3.8/dist-packages (from transformers) (21.3)\n",
            "Collecting huggingface-hub<1.0,>=0.10.0\n",
            "  Downloading huggingface_hub-0.11.1-py3-none-any.whl (182 kB)\n",
            "\u001b[K     |████████████████████████████████| 182 kB 67.0 MB/s \n",
            "\u001b[?25hRequirement already satisfied: tqdm>=4.27 in /usr/local/lib/python3.8/dist-packages (from transformers) (4.64.1)\n",
            "Requirement already satisfied: requests in /usr/local/lib/python3.8/dist-packages (from transformers) (2.23.0)\n",
            "Requirement already satisfied: filelock in /usr/local/lib/python3.8/dist-packages (from transformers) (3.8.2)\n",
            "Requirement already satisfied: pyyaml>=5.1 in /usr/local/lib/python3.8/dist-packages (from transformers) (6.0)\n",
            "Requirement already satisfied: regex!=2019.12.17 in /usr/local/lib/python3.8/dist-packages (from transformers) (2022.6.2)\n",
            "Requirement already satisfied: numpy>=1.17 in /usr/local/lib/python3.8/dist-packages (from transformers) (1.21.6)\n",
            "Requirement already satisfied: typing-extensions>=3.7.4.3 in /usr/local/lib/python3.8/dist-packages (from huggingface-hub<1.0,>=0.10.0->transformers) (4.4.0)\n",
            "Requirement already satisfied: pyparsing!=3.0.5,>=2.0.2 in /usr/local/lib/python3.8/dist-packages (from packaging>=20.0->transformers) (3.0.9)\n",
            "Requirement already satisfied: urllib3!=1.25.0,!=1.25.1,<1.26,>=1.21.1 in /usr/local/lib/python3.8/dist-packages (from requests->transformers) (1.24.3)\n",
            "Requirement already satisfied: certifi>=2017.4.17 in /usr/local/lib/python3.8/dist-packages (from requests->transformers) (2022.12.7)\n",
            "Requirement already satisfied: chardet<4,>=3.0.2 in /usr/local/lib/python3.8/dist-packages (from requests->transformers) (3.0.4)\n",
            "Requirement already satisfied: idna<3,>=2.5 in /usr/local/lib/python3.8/dist-packages (from requests->transformers) (2.10)\n",
            "Installing collected packages: tokenizers, huggingface-hub, transformers\n",
            "Successfully installed huggingface-hub-0.11.1 tokenizers-0.13.2 transformers-4.25.1\n"
          ]
        }
      ]
    },
    {
      "cell_type": "code",
      "source": [
        "from transformers import pipeline\n",
        "os.environ[\"CUDA_VISIBLE_DEVICES\"] = \"0\""
      ],
      "metadata": {
        "id": "OfdCdT4zbh8b"
      },
      "execution_count": 31,
      "outputs": []
    },
    {
      "cell_type": "code",
      "source": [
        "bart_summarizer = pipeline(\"summarization\")"
      ],
      "metadata": {
        "colab": {
          "base_uri": "https://localhost:8080/",
          "height": 180,
          "referenced_widgets": [
            "a1b3258a05964da9b079978854484ee9",
            "441ef1a04f524f08bb4406b078e9875a",
            "bdb680139b7247d6a2b124b1ed640686",
            "7b8a0d76e6f2448fbe3fae61047344eb",
            "82017be7f99d49cca907919b2144fa1a",
            "e4968474111c40b8a3d6658b721072e4",
            "3adbcaa5571f4971af0b165319feb9b9",
            "244021710116406bb8dd5e8676e61c85",
            "1d435a27983448808a4a2f189fa7943a",
            "29db6034a6624f14b4df2cbde291da35",
            "265aa011b436464db12d7544c84dd835",
            "b66ca5293eb445ef8f4f7e6d9e40539d",
            "041f73739a8d484fb21e8ba08c73761b",
            "2d1cacbd9d9245129e32e706fc6a99e1",
            "0a9eb6fb819741a6abbf583ccc97b3d3",
            "0e471dcb97fb41d3a545bd930b57dcc1",
            "ccbdf72f8f3c4418bd120db7fbb2e3e9",
            "27c504867804409493a218d52e9ea5b6",
            "790e6bebd0ba4d06b2ba73b3ae755487",
            "c9c4406b79af49daa87d31d027ffb149",
            "284c7bbfcc8f4f248f367ccad7760ff0",
            "13f4d86c4a8b453ca1aa344c60b606ae",
            "b1c0b392c52b451e983bda46b56b1d98",
            "5129a99c8eb64052b8f3b00279d503eb",
            "4aa1dc1dde6940879395b442b6422066",
            "92bc516438964e27ab98efe95b4a0302",
            "29d7bf6bc3b84c1f871201924c834d0a",
            "17221c607c5a4e6a8d3f9e50c9ee955b",
            "efa85b5401d34a94bd118d82cb4ac350",
            "6bfc2c1d30c54296b393e4bbb3a46e2c",
            "ca17bab7b1934ea7a73871f9e815368e",
            "14614d5d482f4951a36cac6673f48479",
            "2b97f1d3a0e343febffa6d2250ac683e",
            "8624756fc4104b59bf717e042647e673",
            "51757f2435cb4befa44dc04c3a671716",
            "5fb4d8118747416a8e7719c13ede1eb6",
            "e9d3ca6d6a0b4e498e3c0a321558c292",
            "391a323ed83543a0b77d117e56994a42",
            "05b8038bfc8243e3a2c6074438108180",
            "38363247361a438a81f7ce48d7de77ea",
            "6af65f24584a4b70bcb2d563c571aea5",
            "0829d85b7e1f449cab585844db5dbe73",
            "a951a4b3a7324c6fb9d0b89ce66eed16",
            "b3b1b23cad964c0f8453ed6cb9b37815"
          ]
        },
        "id": "dRhCayArbp-O",
        "outputId": "ce17aa5e-ee75-453b-9f5e-c608b05699c0"
      },
      "execution_count": 33,
      "outputs": [
        {
          "output_type": "stream",
          "name": "stderr",
          "text": [
            "No model was supplied, defaulted to sshleifer/distilbart-cnn-12-6 and revision a4f8f3e (https://huggingface.co/sshleifer/distilbart-cnn-12-6).\n",
            "Using a pipeline without specifying a model name and revision in production is not recommended.\n"
          ]
        },
        {
          "output_type": "display_data",
          "data": {
            "text/plain": [
              "Downloading:   0%|          | 0.00/1.22G [00:00<?, ?B/s]"
            ],
            "application/vnd.jupyter.widget-view+json": {
              "version_major": 2,
              "version_minor": 0,
              "model_id": "a1b3258a05964da9b079978854484ee9"
            }
          },
          "metadata": {}
        },
        {
          "output_type": "display_data",
          "data": {
            "text/plain": [
              "Downloading:   0%|          | 0.00/26.0 [00:00<?, ?B/s]"
            ],
            "application/vnd.jupyter.widget-view+json": {
              "version_major": 2,
              "version_minor": 0,
              "model_id": "b66ca5293eb445ef8f4f7e6d9e40539d"
            }
          },
          "metadata": {}
        },
        {
          "output_type": "display_data",
          "data": {
            "text/plain": [
              "Downloading:   0%|          | 0.00/899k [00:00<?, ?B/s]"
            ],
            "application/vnd.jupyter.widget-view+json": {
              "version_major": 2,
              "version_minor": 0,
              "model_id": "b1c0b392c52b451e983bda46b56b1d98"
            }
          },
          "metadata": {}
        },
        {
          "output_type": "display_data",
          "data": {
            "text/plain": [
              "Downloading:   0%|          | 0.00/456k [00:00<?, ?B/s]"
            ],
            "application/vnd.jupyter.widget-view+json": {
              "version_major": 2,
              "version_minor": 0,
              "model_id": "8624756fc4104b59bf717e042647e673"
            }
          },
          "metadata": {}
        }
      ]
    },
    {
      "cell_type": "code",
      "source": [
        "summary_bart = bart_summarizer(summaryforsr, max_length=100, min_length=5, do_sample=False)[0]['summary_text']\n",
        "print(summary_bart)"
      ],
      "metadata": {
        "colab": {
          "base_uri": "https://localhost:8080/"
        },
        "id": "xTxlH8Htbuzt",
        "outputId": "443d0e59-65e2-4fde-b412-b70620053b80"
      },
      "execution_count": 39,
      "outputs": [
        {
          "output_type": "stream",
          "name": "stdout",
          "text": [
            " Two fire crews and a specialist animal rescue team used slide boards and strops to haul the pig from the pool . Dorset Fire and Rescue team struggled to rescue the huge black pig from a garden pool .\n"
          ]
        }
      ]
    },
    {
      "cell_type": "markdown",
      "source": [
        "Audio Summary"
      ],
      "metadata": {
        "id": "IPiA_9VycMPP"
      }
    },
    {
      "cell_type": "code",
      "source": [
        "pip install gTTS "
      ],
      "metadata": {
        "colab": {
          "base_uri": "https://localhost:8080/",
          "height": 658
        },
        "id": "KQAyT-6JcB2o",
        "outputId": "7b4e40a2-3ce0-4aad-f272-1905ca08528c"
      },
      "execution_count": 36,
      "outputs": [
        {
          "output_type": "stream",
          "name": "stdout",
          "text": [
            "Looking in indexes: https://pypi.org/simple, https://us-python.pkg.dev/colab-wheels/public/simple/\n",
            "Collecting gTTS\n",
            "  Downloading gTTS-2.3.0-py3-none-any.whl (26 kB)\n",
            "Collecting six~=1.16.0\n",
            "  Downloading six-1.16.0-py2.py3-none-any.whl (11 kB)\n",
            "Collecting requests~=2.28.0\n",
            "  Downloading requests-2.28.1-py3-none-any.whl (62 kB)\n",
            "\u001b[K     |████████████████████████████████| 62 kB 1.6 MB/s \n",
            "\u001b[?25hCollecting click~=8.1.3\n",
            "  Downloading click-8.1.3-py3-none-any.whl (96 kB)\n",
            "\u001b[K     |████████████████████████████████| 96 kB 5.7 MB/s \n",
            "\u001b[?25hRequirement already satisfied: certifi>=2017.4.17 in /usr/local/lib/python3.8/dist-packages (from requests~=2.28.0->gTTS) (2022.12.7)\n",
            "Requirement already satisfied: charset-normalizer<3,>=2 in /usr/local/lib/python3.8/dist-packages (from requests~=2.28.0->gTTS) (2.1.1)\n",
            "Requirement already satisfied: idna<4,>=2.5 in /usr/local/lib/python3.8/dist-packages (from requests~=2.28.0->gTTS) (2.10)\n",
            "Requirement already satisfied: urllib3<1.27,>=1.21.1 in /usr/local/lib/python3.8/dist-packages (from requests~=2.28.0->gTTS) (1.24.3)\n",
            "Installing collected packages: six, requests, click, gTTS\n",
            "  Attempting uninstall: six\n",
            "    Found existing installation: six 1.15.0\n",
            "    Uninstalling six-1.15.0:\n",
            "      Successfully uninstalled six-1.15.0\n",
            "  Attempting uninstall: requests\n",
            "    Found existing installation: requests 2.23.0\n",
            "    Uninstalling requests-2.23.0:\n",
            "      Successfully uninstalled requests-2.23.0\n",
            "  Attempting uninstall: click\n",
            "    Found existing installation: click 7.1.2\n",
            "    Uninstalling click-7.1.2:\n",
            "      Successfully uninstalled click-7.1.2\n",
            "\u001b[31mERROR: pip's dependency resolver does not currently take into account all the packages that are installed. This behaviour is the source of the following dependency conflicts.\n",
            "ipython 7.9.0 requires jedi>=0.10, which is not installed.\n",
            "flask 1.1.4 requires click<8.0,>=5.1, but you have click 8.1.3 which is incompatible.\u001b[0m\n",
            "Successfully installed click-8.1.3 gTTS-2.3.0 requests-2.28.1 six-1.16.0\n"
          ]
        },
        {
          "output_type": "display_data",
          "data": {
            "application/vnd.colab-display-data+json": {
              "pip_warning": {
                "packages": [
                  "click",
                  "requests",
                  "six"
                ]
              }
            }
          },
          "metadata": {}
        }
      ]
    },
    {
      "cell_type": "code",
      "source": [
        "pip install playsound  "
      ],
      "metadata": {
        "colab": {
          "base_uri": "https://localhost:8080/"
        },
        "id": "6Fk3GooCcS7M",
        "outputId": "7c36f96f-9f39-418f-edb1-d8aac82b2a07"
      },
      "execution_count": 37,
      "outputs": [
        {
          "output_type": "stream",
          "name": "stdout",
          "text": [
            "Looking in indexes: https://pypi.org/simple, https://us-python.pkg.dev/colab-wheels/public/simple/\n",
            "Collecting playsound\n",
            "  Downloading playsound-1.3.0.tar.gz (7.7 kB)\n",
            "Building wheels for collected packages: playsound\n",
            "  Building wheel for playsound (setup.py) ... \u001b[?25l\u001b[?25hdone\n",
            "  Created wheel for playsound: filename=playsound-1.3.0-py3-none-any.whl size=7038 sha256=374e5495d762d23a55c5e3dd81354674cff0ab4fcedd6c69433b8a02b92c1a1b\n",
            "  Stored in directory: /root/.cache/pip/wheels/73/cd/cf/9750b618d54bd81c20e4c34fb24a423a5b095920367cdb3f71\n",
            "Successfully built playsound\n",
            "Installing collected packages: playsound\n",
            "Successfully installed playsound-1.3.0\n"
          ]
        }
      ]
    },
    {
      "cell_type": "code",
      "source": [
        "pip install pyttsx3  "
      ],
      "metadata": {
        "colab": {
          "base_uri": "https://localhost:8080/"
        },
        "id": "lpgRTSI7cUi3",
        "outputId": "3d31e188-783b-4852-bcff-95d5f33f943e"
      },
      "execution_count": 38,
      "outputs": [
        {
          "output_type": "stream",
          "name": "stdout",
          "text": [
            "Looking in indexes: https://pypi.org/simple, https://us-python.pkg.dev/colab-wheels/public/simple/\n",
            "Collecting pyttsx3\n",
            "  Downloading pyttsx3-2.90-py3-none-any.whl (39 kB)\n",
            "Installing collected packages: pyttsx3\n",
            "Successfully installed pyttsx3-2.90\n"
          ]
        }
      ]
    },
    {
      "cell_type": "code",
      "source": [
        "import gtts  \n",
        "from playsound import playsound  \n",
        "audio_ts = gtts.gTTS(summary_bart)  \n",
        "audio_ts.save(\"audiosummary.mp3\")   "
      ],
      "metadata": {
        "colab": {
          "base_uri": "https://localhost:8080/"
        },
        "id": "1fuojXVLcnQN",
        "outputId": "dbe4364d-574d-4a19-cf38-e5194209eadf"
      },
      "execution_count": 40,
      "outputs": [
        {
          "output_type": "stream",
          "name": "stderr",
          "text": [
            "WARNING:playsound:playsound is relying on another python subprocess. Please use `pip install pygobject` if you want playsound to run more efficiently.\n"
          ]
        }
      ]
    },
    {
      "cell_type": "code",
      "source": [
        "from IPython.display import Audio, display\n",
        "display(Audio('/content/audiosummary.mp3', autoplay=True))"
      ],
      "metadata": {
        "colab": {
          "base_uri": "https://localhost:8080/",
          "height": 76
        },
        "id": "8wFJ_nlncycE",
        "outputId": "0355b742-732b-4a88-9441-095dc437a420"
      },
      "execution_count": 41,
      "outputs": [
        {
          "output_type": "display_data",
          "data": {
            "text/plain": [
              "<IPython.lib.display.Audio object>"
            ],
            "text/html": [
              "\n",
              "                <audio  controls=\"controls\" autoplay=\"autoplay\">\n",
              "                    <source src=\"data:audio/mpeg;base64,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\" type=\"audio/mpeg\" />\n",
              "                    Your browser does not support the audio element.\n",
              "                </audio>\n",
              "              "
            ]
          },
          "metadata": {}
        }
      ]
    },
    {
      "cell_type": "markdown",
      "source": [
        "ROUGE"
      ],
      "metadata": {
        "id": "n-XAhnNXdY9B"
      }
    },
    {
      "cell_type": "code",
      "source": [
        "pip install rouge"
      ],
      "metadata": {
        "colab": {
          "base_uri": "https://localhost:8080/"
        },
        "id": "G496C875dUYf",
        "outputId": "387070f2-ec03-49b0-d6cb-7108a01f95b5"
      },
      "execution_count": 42,
      "outputs": [
        {
          "output_type": "stream",
          "name": "stdout",
          "text": [
            "Looking in indexes: https://pypi.org/simple, https://us-python.pkg.dev/colab-wheels/public/simple/\n",
            "Collecting rouge\n",
            "  Downloading rouge-1.0.1-py3-none-any.whl (13 kB)\n",
            "Requirement already satisfied: six in /usr/local/lib/python3.8/dist-packages (from rouge) (1.16.0)\n",
            "Installing collected packages: rouge\n",
            "Successfully installed rouge-1.0.1\n"
          ]
        }
      ]
    },
    {
      "cell_type": "code",
      "source": [
        "from rouge import Rouge\n",
        "rouge = Rouge()"
      ],
      "metadata": {
        "id": "IXZpoYvkdi0j"
      },
      "execution_count": 43,
      "outputs": []
    },
    {
      "cell_type": "code",
      "source": [
        "rouge.get_scores(train_ts['highlights'][5],summary_bart) #sentence ranking+ BART"
      ],
      "metadata": {
        "colab": {
          "base_uri": "https://localhost:8080/"
        },
        "id": "oBypn-INdoZB",
        "outputId": "7c1eaeee-cff8-453a-8d9a-c601c43f49e8"
      },
      "execution_count": 45,
      "outputs": [
        {
          "output_type": "execute_result",
          "data": {
            "text/plain": [
              "[{'rouge-1': {'r': 0.2692307692307692,\n",
              "   'p': 0.20588235294117646,\n",
              "   'f': 0.23333332842222232},\n",
              "  'rouge-2': {'r': 0.02857142857142857,\n",
              "   'p': 0.024390243902439025,\n",
              "   'f': 0.02631578450484858},\n",
              "  'rouge-l': {'r': 0.2692307692307692,\n",
              "   'p': 0.20588235294117646,\n",
              "   'f': 0.23333332842222232}}]"
            ]
          },
          "metadata": {},
          "execution_count": 45
        }
      ]
    }
  ]
}